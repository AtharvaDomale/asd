{
  "nbformat": 4,
  "nbformat_minor": 0,
  "metadata": {
    "colab": {
      "provenance": []
    },
    "kernelspec": {
      "name": "python3",
      "display_name": "Python 3"
    },
    "language_info": {
      "name": "python"
    }
  },
  "cells": [
    {
      "cell_type": "code",
      "source": [
        "import dash\n",
        "from dash import dcc, html\n",
        "from dash.dependencies import Input, Output\n",
        "import plotly.graph_objs as go\n",
        "import numpy as np\n"
      ],
      "metadata": {
        "id": "6OYXgbAcDr3f"
      },
      "execution_count": null,
      "outputs": []
    },
    {
      "cell_type": "code",
      "source": [
        "app = dash.Dash(__name__)"
      ],
      "metadata": {
        "id": "HH-RAvqRDr1c"
      },
      "execution_count": null,
      "outputs": []
    },
    {
      "cell_type": "code",
      "source": [
        "app.layout = html.Div([\n",
        "    dcc.Graph(id='scatter-plot'),\n",
        "    html.Label('Select the number of points:'),\n",
        "    dcc.Slider(\n",
        "        id='points-slider',\n",
        "        min=10,\n",
        "        max=100,\n",
        "        step=10,\n",
        "        value=50,\n",
        "        marks={i: str(i) for i in range(10, 101, 10)})])"
      ],
      "metadata": {
        "id": "pBQzMBdaDrxI"
      },
      "execution_count": null,
      "outputs": []
    },
    {
      "cell_type": "code",
      "source": [
        "@app.callback(\n",
        "    Output('scatter-plot', 'figure'),\n",
        "    [Input('points-slider', 'value')]\n",
        ")\n",
        "def update_scatter_plot(num_points):\n",
        "    # Generate random data points\n",
        "    x = np.random.randn(num_points)\n",
        "    y = np.random.randn(num_points)\n",
        "\n",
        "    # Create scatter plot\n",
        "    scatter_plot = go.Figure(\n",
        "        data=[go.Scatter(x=x, y=y, mode='markers')],\n",
        "        layout=go.Layout(\n",
        "            title='Random Scatter Plot',\n",
        "            xaxis=dict(title='X-axis'),\n",
        "            yaxis=dict(title='Y-axis'),\n",
        "            showlegend=False))\n",
        "    return scatter_plot"
      ],
      "metadata": {
        "id": "CmvERQeHDrut"
      },
      "execution_count": null,
      "outputs": []
    },
    {
      "cell_type": "code",
      "source": [
        "if __name__ == '__main__':\n",
        "    app.run_server(debug=True)"
      ],
      "metadata": {
        "colab": {
          "base_uri": "https://localhost:8080/",
          "height": 671
        },
        "id": "byqovbHtDrnZ",
        "outputId": "b048f338-1ddb-4115-f5bd-40832b49e01e"
      },
      "execution_count": null,
      "outputs": [
        {
          "output_type": "display_data",
          "data": {
            "text/plain": [
              "<IPython.core.display.Javascript object>"
            ],
            "application/javascript": [
              "(async (port, path, width, height, cache, element) => {\n",
              "    if (!google.colab.kernel.accessAllowed && !cache) {\n",
              "      return;\n",
              "    }\n",
              "    element.appendChild(document.createTextNode(''));\n",
              "    const url = await google.colab.kernel.proxyPort(port, {cache});\n",
              "    const iframe = document.createElement('iframe');\n",
              "    iframe.src = new URL(path, url).toString();\n",
              "    iframe.height = height;\n",
              "    iframe.width = width;\n",
              "    iframe.style.border = 0;\n",
              "    iframe.allow = [\n",
              "        'accelerometer',\n",
              "        'autoplay',\n",
              "        'camera',\n",
              "        'clipboard-read',\n",
              "        'clipboard-write',\n",
              "        'gyroscope',\n",
              "        'magnetometer',\n",
              "        'microphone',\n",
              "        'serial',\n",
              "        'usb',\n",
              "        'xr-spatial-tracking',\n",
              "    ].join('; ');\n",
              "    element.appendChild(iframe);\n",
              "  })(8050, \"/\", \"100%\", 650, false, window.element)"
            ]
          },
          "metadata": {}
        }
      ]
    }
  ]
}